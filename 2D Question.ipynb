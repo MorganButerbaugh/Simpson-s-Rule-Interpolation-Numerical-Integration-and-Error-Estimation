{
 "cells": [
  {
   "cell_type": "code",
   "execution_count": 94,
   "id": "yGcrNCFs0Bym",
   "metadata": {
    "executionInfo": {
     "elapsed": 182,
     "status": "ok",
     "timestamp": 1702615862851,
     "user": {
      "displayName": "Jaylee Lassinger",
      "userId": "09766116700985077979"
     },
     "user_tz": 300
    },
    "id": "yGcrNCFs0Bym"
   },
   "outputs": [],
   "source": [
    "import numpy as np"
   ]
  },
  {
   "cell_type": "code",
   "execution_count": 3,
   "id": "cb882f1e",
   "metadata": {},
   "outputs": [
    {
     "name": "stdout",
     "output_type": "stream",
     "text": [
      "The average temperature across the plate witin the given region using Simpson's 1/3 Rule is: 735.9999999999999\n"
     ]
    }
   ],
   "source": [
    "#Defining the given temperature equation\n",
    "def T(x,y):\n",
    "    return 100 - x**2 - 2*y**2\n",
    "\n",
    "#Modifing the Simpson's 1/3 Rule function to use the temperature equation\n",
    "def SimpsonsDouble13(T,ax,bx,ay,by,nx,ny):\n",
    "    hx = ((bx - ax)/nx)\n",
    "    hy = ((by - ay)/ny)\n",
    "    \n",
    "    integration = 0.0\n",
    "\n",
    "    for i in range(0,nx+1):\n",
    "        for j in range(0, ny+1):\n",
    "            x = ax + i * hx\n",
    "            y = ay + j * hy\n",
    "\n",
    "            if i==0 or i==nx:\n",
    "                coefficientx =  1.0\n",
    "            elif i%2 == 0:\n",
    "                coefficientx =  2.0\n",
    "            else:\n",
    "                coefficientx =  4.0\n",
    "\n",
    "            if j==0 or j==ny:\n",
    "                coefficienty =  1.0\n",
    "            elif j%2 ==0:\n",
    "                coefficienty =  2.0\n",
    "            else:\n",
    "                coefficienty =  4.0\n",
    "\n",
    "            coefficient = coefficientx * coefficienty\n",
    "            integration += coefficient*T(x,y)\n",
    "\n",
    "    integration *= (hx * hy) / 9.0\n",
    "\n",
    "    return integration\n",
    "\n",
    "#Define the region of integration 0<=x<=4 x 0<=y<=2\n",
    "ax, bx = 0, 4      #Bounds on x\n",
    "ay, by = 0, 2      #Bounds on y\n",
    "nx, ny = 6, 6      #Number of sub-intervals x and y, must be divisible by 2\n",
    "\n",
    "result = SimpsonsDouble13(T, ax, bx, ay, by, nx, ny)\n",
    "print(\"The average temperature across the plate witin the given region using Simpson's 1/3 Rule is:\", result)"
   ]
  },
  {
   "cell_type": "code",
   "execution_count": 4,
   "id": "P6D3OAMvWnhD",
   "metadata": {
    "colab": {
     "base_uri": "https://localhost:8080/"
    },
    "executionInfo": {
     "elapsed": 153,
     "status": "ok",
     "timestamp": 1702617103972,
     "user": {
      "displayName": "Jaylee Lassinger",
      "userId": "09766116700985077979"
     },
     "user_tz": 300
    },
    "id": "P6D3OAMvWnhD",
    "outputId": "2f8dcca7-a663-4f7c-ea62-46ece31163f9"
   },
   "outputs": [
    {
     "name": "stdout",
     "output_type": "stream",
     "text": [
      "The average temperature across the plate witin the given region using Simpson's 3/8 Rule is: 735.9999999999999\n"
     ]
    }
   ],
   "source": [
    "#Defining the given temperature function\n",
    "def T(x,y):\n",
    "    return 100 - x**2 - 2*y**2\n",
    "\n",
    "#Modifing the Simpson's 3/8 Rule function to use the temperature equation\n",
    "def SimpsonDouble38(T,ax,bx,ay,by,nx,ny):\n",
    "    hx = ((bx - ax)/nx)\n",
    "    hy = ((by - ay)/ny)\n",
    "    \n",
    "    integration = 0.0\n",
    "\n",
    "    for i in range(0,nx+1):\n",
    "        for j in range(0, ny+1):\n",
    "            x = ax + i * hx\n",
    "            y = ay + j * hy\n",
    "\n",
    "            if i==0 or i==nx:\n",
    "                coefficientx =  1.0\n",
    "            elif i%3 == 0:\n",
    "                coefficientx =  2.0\n",
    "            else:\n",
    "                coefficientx =  3.0\n",
    "\n",
    "            if j==0 or j==ny:\n",
    "                coefficienty =  1.0\n",
    "            elif j%3 ==0:\n",
    "                coefficienty =  2.0\n",
    "            else:\n",
    "                coefficienty =  3.0\n",
    "\n",
    "            coefficient = coefficientx * coefficienty\n",
    "            integration += coefficient*T(x,y)\n",
    "\n",
    "    integration *= (9 * hx * hy)/64\n",
    "    \n",
    "    return integration\n",
    "\n",
    "#Define the region of integration 0<=x<=4 x 0<=y<=2\n",
    "ax, bx = 0, 4      #Limits in x\n",
    "ay, by = 0, 2      #Limits in y\n",
    "nx, ny = 6, 6      ##Number of sub-intervals x and y, must be divisible by 3\n",
    "\n",
    "result = SimpsonDouble38(T,ax,bx,ay,by,nx,ny)\n",
    "print(\"The average temperature across the plate witin the given region using Simpson's 3/8 Rule is:\", result)"
   ]
  },
  {
   "cell_type": "code",
   "execution_count": null,
   "id": "vswVL3Ze5YyR",
   "metadata": {
    "id": "vswVL3Ze5YyR"
   },
   "outputs": [],
   "source": []
  }
 ],
 "metadata": {
  "colab": {
   "provenance": []
  },
  "kernelspec": {
   "display_name": "Python 3 (ipykernel)",
   "language": "python",
   "name": "python3"
  },
  "language_info": {
   "codemirror_mode": {
    "name": "ipython",
    "version": 3
   },
   "file_extension": ".py",
   "mimetype": "text/x-python",
   "name": "python",
   "nbconvert_exporter": "python",
   "pygments_lexer": "ipython3",
   "version": "3.9.18"
  }
 },
 "nbformat": 4,
 "nbformat_minor": 5
}
