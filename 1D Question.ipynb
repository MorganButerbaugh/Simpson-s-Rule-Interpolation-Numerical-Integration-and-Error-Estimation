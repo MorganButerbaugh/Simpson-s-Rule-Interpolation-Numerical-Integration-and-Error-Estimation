{
 "cells": [
  {
   "cell_type": "code",
   "execution_count": 1,
   "id": "dea54db9",
   "metadata": {},
   "outputs": [
    {
     "name": "stdout",
     "output_type": "stream",
     "text": [
      "The estimated total population growth using Simpson's 1/3 Rule:  707.6179999999999\n"
     ]
    }
   ],
   "source": [
    "#Defining the time intervals and corresponding population counts\n",
    "time_int = [0, 1, 2, 3, 4, 5]\n",
    "pop_count = [100, 120, 150, 200, 180, 250]\n",
    "\n",
    "#Defining a function that interpolates between the data points\n",
    "def interpolate_pop(t):\n",
    "    #Checking to see if the time t matches any recorded time\n",
    "    if t in time_int:\n",
    "        return pop_count[time_int.index(t)]\n",
    "    \n",
    "    #If not, do a linear interpolation to estimate the population at time t\n",
    "    else:\n",
    "        for i in range(len(time_int) - 1):\n",
    "            if time_int[i] < t < time_int[i + 1]:\n",
    "                #Performing a linear interpolation between two closest known time intervals\n",
    "                time_diff = time_int[i + 1] - time_int[i]\n",
    "                pop_diff = pop_count[i + 1] - pop_count[i]\n",
    "                slope = ((pop_diff)/(time_diff))\n",
    "                interpolated_pop = pop_count[i] + slope * (t - time_int[i])\n",
    "                return interpolated_pop\n",
    "\n",
    "#Defining the function for population growth over time using the interpolation function from above\n",
    "def pop_growth(t):\n",
    "    return interpolate_pop(t)\n",
    "\n",
    "#Modifing the Simpson's 1/3 Rule function to use the population growth\n",
    "def Simpson13(t0,tn,n):\n",
    "    h = ((tn - t0)/(n))\n",
    "\n",
    "    integration = pop_growth(t0) + pop_growth(tn)\n",
    "\n",
    "    for i in range(1,n,2):\n",
    "        integration += 4.0 * pop_growth(t0 + i * h)\n",
    "    for i in range(1,n-1,2):\n",
    "        integration += 2.0 * pop_growth(t0 + i * h)\n",
    "\n",
    "    integration *= h / 3.0\n",
    "\n",
    "    return integration\n",
    "\n",
    "t0 = 0  #Starting time\n",
    "tn = 4.5  #Ending time\n",
    "n = 150 #Number of sub-intervals\n",
    "\n",
    "result = Simpson13(t0, tn, n)\n",
    "print(\"The estimated total population growth using Simpson's 1/3 Rule: \", result)"
   ]
  },
  {
   "cell_type": "code",
   "execution_count": 3,
   "id": "df83f805",
   "metadata": {},
   "outputs": [
    {
     "name": "stdout",
     "output_type": "stream",
     "text": [
      "The estimated total population growth using Simpson's 3/8 Rule:  825.0\n"
     ]
    }
   ],
   "source": [
    "#Defining the time intervals and corresponding population counts\n",
    "time_int = [0, 1, 2, 3, 4, 5]\n",
    "pop_count = [100, 120, 150, 200, 180, 250]\n",
    "\n",
    "#Defining a function that interpolates between the data points\n",
    "def interpolate_pop(t):\n",
    "    #Checking to see if the time t matches any recorded time\n",
    "    if t in time_int:\n",
    "        return pop_count[time_int.index(t)]\n",
    "    \n",
    "    #If not, do a linear interpolation to estimate the population at time t\n",
    "    else:\n",
    "        for i in range(len(time_int) - 1):\n",
    "            if time_int[i] < t < time_int[i + 1]:\n",
    "                #Performing a linear interpolation between two closest known time intervals\n",
    "                time_diff = time_int[i + 1] - time_int[i]\n",
    "                pop_diff = pop_count[i + 1] - pop_count[i]\n",
    "                slope = ((pop_diff)/(time_diff))\n",
    "                interpolated_pop = pop_count[i] + slope * (t - time_int[i])\n",
    "                return interpolated_pop\n",
    "\n",
    "#Defining the function for population growth over time using the interpolation function from above\n",
    "def pop_growth(t):\n",
    "    return interpolate_pop(t)\n",
    "\n",
    "#Modifing the Simpson's 3/8 Rule function to use the population growth\n",
    "def Simpson38(t0,tn,n):\n",
    "    h = ((tn - t0)/(n))\n",
    "\n",
    "    integration = pop_growth(t0) + pop_growth(tn)\n",
    "\n",
    "    for i in range(1,n):\n",
    "        if i%3 == 0:\n",
    "            integration += 2 * pop_growth(t0 + i*h)\n",
    "        else:\n",
    "            integration += 3 * pop_growth(t0 + i*h)\n",
    "\n",
    "    integration *=  (3 * h) / 8\n",
    "\n",
    "    return integration\n",
    "\n",
    "t0 = 0  #Starting time\n",
    "tn = 4.5  #Ending time\n",
    "n = 150 #Number of sub-intervals\n",
    "\n",
    "result = Simpson38(t0, tn, n)\n",
    "print(\"The estimated total population growth using Simpson's 3/8 Rule: \", result)"
   ]
  },
  {
   "cell_type": "code",
   "execution_count": null,
   "id": "65c7dce8",
   "metadata": {},
   "outputs": [],
   "source": []
  }
 ],
 "metadata": {
  "kernelspec": {
   "display_name": "Python 3 (ipykernel)",
   "language": "python",
   "name": "python3"
  },
  "language_info": {
   "codemirror_mode": {
    "name": "ipython",
    "version": 3
   },
   "file_extension": ".py",
   "mimetype": "text/x-python",
   "name": "python",
   "nbconvert_exporter": "python",
   "pygments_lexer": "ipython3",
   "version": "3.9.18"
  }
 },
 "nbformat": 4,
 "nbformat_minor": 5
}
