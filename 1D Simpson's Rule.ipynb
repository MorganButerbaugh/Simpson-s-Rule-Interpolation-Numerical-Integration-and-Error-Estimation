{
 "cells": [
  {
   "cell_type": "code",
   "execution_count": 2,
   "id": "l5XHXNtQu91C",
   "metadata": {
    "executionInfo": {
     "elapsed": 187,
     "status": "ok",
     "timestamp": 1702614540103,
     "user": {
      "displayName": "Jaylee Lassinger",
      "userId": "09766116700985077979"
     },
     "user_tz": 300
    },
    "id": "l5XHXNtQu91C"
   },
   "outputs": [],
   "source": [
    "import numpy as np"
   ]
  },
  {
   "cell_type": "code",
   "execution_count": 3,
   "id": "xD8Vl39UiazE",
   "metadata": {
    "colab": {
     "base_uri": "https://localhost:8080/"
    },
    "executionInfo": {
     "elapsed": 180,
     "status": "ok",
     "timestamp": 1702614862156,
     "user": {
      "displayName": "Jaylee Lassinger",
      "userId": "09766116700985077979"
     },
     "user_tz": 300
    },
    "id": "xD8Vl39UiazE",
    "outputId": "98db2ffe-55ab-40d4-bd7c-478a0d07c1e6"
   },
   "outputs": [
    {
     "name": "stdout",
     "output_type": "stream",
     "text": [
      "The 1 dimensional approximation using Simpson's 1/3 Rule:  0.5006823258721649\n"
     ]
    }
   ],
   "source": [
    "#Define the function you want to integrate\n",
    "def f(x):\n",
    "    return np.exp(-x)*np.sin(x)\n",
    "\n",
    "#Defining Simpson's 1/3 Rule\n",
    "def Simpson13(f,a,b,n):\n",
    "    h = ((b - a)/(n))    #step size\n",
    "\n",
    "    #Give an intial value to what the answer is going to be\n",
    "    #It is the following because the first and the last values are not multiplied by any value\n",
    "    integration = f(a) + f(b)\n",
    "\n",
    "\n",
    "    #Creating a for loop to figure out what terms get multiplied by what value\n",
    "    #For the odd points:\n",
    "    for i in range(1,n,2):\n",
    "        integration += 4.0 * f(a + i * h)\n",
    "\n",
    "    #For the even points\n",
    "    for i in range(1,n-1,2):\n",
    "        integration += 2.0 * f(a + i * h)\n",
    "\n",
    "    integration *= h / 3.0\n",
    "\n",
    "    return integration\n",
    "\n",
    "lowLim = 0\n",
    "upLim = 10\n",
    "subInt = 160\n",
    "\n",
    "#Check if the number of sub-intervals is even\n",
    "if subInt % 2.0 != 0:\n",
    "    print(\"The number of sub-intervals must be divisible by 2 for Simpson's 1/3 Rule.\")\n",
    "else:\n",
    "    result = Simpson13(f,lowLim,upLim,subInt)\n",
    "\n",
    "    print(\"The 1 dimensional approximation using Simpson's 1/3 Rule: \", result)"
   ]
  },
  {
   "cell_type": "markdown",
   "id": "GPorV4M9txUn",
   "metadata": {
    "id": "GPorV4M9txUn"
   },
   "source": [
    "Lower Limit is equal to 0\n",
    "Upper Limit is equal to 10\n",
    "- subInt = 10 the value is 0.6215070606445476\n",
    "- subInt = 20 the value is 0.5391444063425603\n",
    "- subInt = 40 the value is 0.5102953529792413\n",
    "- subInt = 80 the value is 0.5026269080467027\n",
    "- subInt = 160 the value is 0.5006823258721649\n",
    "\n",
    "The true value is 0.5000313962\n",
    "\n",
    "Therefore, the error vector would be\n",
    "[0.12147566, 0.03911301, 0.01026395, 0.00259551, 0.00065092]\n"
   ]
  },
  {
   "cell_type": "code",
   "execution_count": 4,
   "id": "-HfBozmSxGII",
   "metadata": {
    "colab": {
     "base_uri": "https://localhost:8080/"
    },
    "executionInfo": {
     "elapsed": 159,
     "status": "ok",
     "timestamp": 1702615125258,
     "user": {
      "displayName": "Jaylee Lassinger",
      "userId": "09766116700985077979"
     },
     "user_tz": 300
    },
    "id": "-HfBozmSxGII",
    "outputId": "ab5625ec-7534-467e-bb93-b7a548047f69"
   },
   "outputs": [
    {
     "name": "stdout",
     "output_type": "stream",
     "text": [
      "Convergence =  1.6349468007051033\n",
      "Convergence =  1.9300625175055044\n",
      "Convergence =  1.9834960963063233\n",
      "Convergence =  1.9954658982703912\n"
     ]
    }
   ],
   "source": [
    "ErrorVec = [0.12147566, 0.03911301, 0.01026395, 0.00259551, 0.00065092]\n",
    "def GetConvergence(vec,factor=2):\n",
    "    for i in range(len(vec)-1):\n",
    "        print(\"Convergence = \", (np.log(vec[i]/vec[i+1]))/np.log(factor))\n",
    "GetConvergence(ErrorVec)"
   ]
  },
  {
   "cell_type": "code",
   "execution_count": 5,
   "id": "Xg6frNa8YVEY",
   "metadata": {
    "colab": {
     "base_uri": "https://localhost:8080/"
    },
    "executionInfo": {
     "elapsed": 168,
     "status": "ok",
     "timestamp": 1702615323867,
     "user": {
      "displayName": "Jaylee Lassinger",
      "userId": "09766116700985077979"
     },
     "user_tz": 300
    },
    "id": "Xg6frNa8YVEY",
    "outputId": "9dc15ecc-7f2c-44d3-c4b7-6067cb4eb34a"
   },
   "outputs": [
    {
     "name": "stdout",
     "output_type": "stream",
     "text": [
      "The 1 dimensional approximation using Simpson's 3/8 Rule is:  0.5000308133654675\n"
     ]
    }
   ],
   "source": [
    "#Define the function you want to integrate\n",
    "def f(x):\n",
    "    return np.exp(-x)*np.sin(x)\n",
    "\n",
    "#Defining Simpson's 3/8 Rule\n",
    "def Simpson38(f,a,b,n):\n",
    "    h = ((b - a)/(n))   #step size\n",
    "\n",
    "    #Give an intial value to what the answer is going to be\n",
    "    #It is the following since the first and the last values are not multiplied by any value\n",
    "    integration = f(a) + f(b)\n",
    "\n",
    "    #Creating a for loop to figure out what terms get multiplied by what value\n",
    "    for i in range(1,n):\n",
    "        #if i is divisible by 3 then do the following\n",
    "        if i%3 == 0:\n",
    "            integration += 2 * f(a + i*h)\n",
    "        #if i is not divisible by 3 do the following\n",
    "        else:\n",
    "            integration += 3 * f(a + i*h)\n",
    "\n",
    "    #Multiply the integration value by 3h/8\n",
    "    integration = integration * 3 * h / 8\n",
    "\n",
    "    return integration\n",
    "\n",
    "lowLim = 0\n",
    "upLim = 10\n",
    "subInt = 144\n",
    "\n",
    "#Check to make sure that the number of sub-intervals is divisible by three\n",
    "if subInt % 3 != 0:\n",
    "    print(\"The number of sub-intervals has to be divisible by 3\")\n",
    "#If the number of sub-intervals is divisible by three, call the Simpson38 function\n",
    "else:\n",
    "    result = Simpson38(f,lowLim, upLim, subInt)\n",
    "    print(\"The 1 dimensional approximation using Simpson's 3/8 Rule is: \", result)\n"
   ]
  },
  {
   "cell_type": "markdown",
   "id": "V1o_AntGxp_d",
   "metadata": {
    "id": "V1o_AntGxp_d"
   },
   "source": [
    "Lower Limit is equal to 0\n",
    "Upper Limit is equal to 10\n",
    "- subInt = 9 the value is 0.45445742501114317\n",
    "- subInt = 18 the value is 0.49735470544359833\n",
    "- subInt = 36 the value is 0.4998772727317998\n",
    "- subInt = 72 the value is 0.5000220081513992\n",
    "- subInt = 144 the value is 0.5000308133654676\n",
    "\n",
    "The true value is 0.5000313962\n",
    "\n",
    "Therefore, the error vector would be\n",
    "[.0455739712, .0026766908, .0001541234682, .00000938804861, .00000058283454]"
   ]
  },
  {
   "cell_type": "code",
   "execution_count": 6,
   "id": "kHfBz32wyALv",
   "metadata": {
    "colab": {
     "base_uri": "https://localhost:8080/"
    },
    "executionInfo": {
     "elapsed": 153,
     "status": "ok",
     "timestamp": 1702615754125,
     "user": {
      "displayName": "Jaylee Lassinger",
      "userId": "09766116700985077979"
     },
     "user_tz": 300
    },
    "id": "kHfBz32wyALv",
    "outputId": "6371e5f6-d047-4264-fc56-d5ac502ced80"
   },
   "outputs": [
    {
     "name": "stdout",
     "output_type": "stream",
     "text": [
      "Convergence =  4.089687689130098\n",
      "Convergence =  4.118292033398068\n",
      "Convergence =  4.037117433885236\n",
      "Convergence =  4.009667029763852\n"
     ]
    }
   ],
   "source": [
    "ErrorVec2 = [.0455739712, .0026766908, .0001541234682, .00000938804861, .00000058283454]\n",
    "def GetConvergence(vec,factor=2):\n",
    "    for i in range(len(vec)-1):\n",
    "        print(\"Convergence = \", (np.log(vec[i]/vec[i+1]))/np.log(factor))\n",
    "GetConvergence(ErrorVec2)"
   ]
  },
  {
   "cell_type": "code",
   "execution_count": null,
   "id": "DgQyEoFxzkna",
   "metadata": {
    "id": "DgQyEoFxzkna"
   },
   "outputs": [],
   "source": []
  }
 ],
 "metadata": {
  "colab": {
   "provenance": []
  },
  "kernelspec": {
   "display_name": "Python 3 (ipykernel)",
   "language": "python",
   "name": "python3"
  },
  "language_info": {
   "codemirror_mode": {
    "name": "ipython",
    "version": 3
   },
   "file_extension": ".py",
   "mimetype": "text/x-python",
   "name": "python",
   "nbconvert_exporter": "python",
   "pygments_lexer": "ipython3",
   "version": "3.9.18"
  }
 },
 "nbformat": 4,
 "nbformat_minor": 5
}
