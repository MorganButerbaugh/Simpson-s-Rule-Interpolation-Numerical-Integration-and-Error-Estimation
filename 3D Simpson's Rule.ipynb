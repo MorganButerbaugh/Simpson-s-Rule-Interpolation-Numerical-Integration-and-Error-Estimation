{
 "cells": [
  {
   "cell_type": "code",
   "execution_count": 2,
   "id": "QrY5yFes5jl3",
   "metadata": {
    "executionInfo": {
     "elapsed": 123,
     "status": "ok",
     "timestamp": 1702617309103,
     "user": {
      "displayName": "Jaylee Lassinger",
      "userId": "09766116700985077979"
     },
     "user_tz": 300
    },
    "id": "QrY5yFes5jl3"
   },
   "outputs": [],
   "source": [
    "import numpy as np"
   ]
  },
  {
   "cell_type": "code",
   "execution_count": 3,
   "id": "nHGAvn74isXY",
   "metadata": {
    "colab": {
     "base_uri": "https://localhost:8080/"
    },
    "executionInfo": {
     "elapsed": 9106,
     "status": "ok",
     "timestamp": 1702618213805,
     "user": {
      "displayName": "Jaylee Lassinger",
      "userId": "09766116700985077979"
     },
     "user_tz": 300
    },
    "id": "nHGAvn74isXY",
    "outputId": "acf8fd8c-a819-473a-f641-22ca889519ad"
   },
   "outputs": [
    {
     "name": "stdout",
     "output_type": "stream",
     "text": [
      "The 3 dimensional approximation using Simpson's 1/3 Rule is:  4.603266899095987\n"
     ]
    }
   ],
   "source": [
    "#Correct Running Code for Simpsons 1/3 in Three Dimensions\n",
    "\n",
    "def g(x, y, z):\n",
    "    return np.exp(x*y) + np.sin(z)\n",
    "\n",
    "def SimpsonsTriple13(g, ax, bx, ay, by, az, bz,  nx, ny, nz):\n",
    "    hx = (bx - ax) / nx\n",
    "    hy = (by - ay) / ny\n",
    "    hz = (bz - az) / nz\n",
    "    integration = 0.0\n",
    "\n",
    "    for i in range(0,nx+1):\n",
    "        for j in range(0, ny+1):\n",
    "            for k in range (0, nz+1):\n",
    "                x = ax + i * hx\n",
    "                y = ay + j * hy\n",
    "                z = az + k * hz\n",
    "\n",
    "                if i==0 or i==nx:\n",
    "                    coefficientx =  1.0\n",
    "                elif i%2 == 0:\n",
    "                    coefficientx =  2.0\n",
    "                else:\n",
    "                    coefficientx =  4.0\n",
    "\n",
    "                if j==0 or j==ny:\n",
    "                    coefficienty =  1.0\n",
    "                elif j%2 ==0:\n",
    "                    coefficienty =  2.0\n",
    "                else:\n",
    "                    coefficienty =  4.0\n",
    "\n",
    "                if k==0 or k==nz:\n",
    "                    coefficientz = 1.0\n",
    "                elif k%2 == 0:\n",
    "                    coefficientz = 2.0\n",
    "                else:\n",
    "                    coefficientz = 4.0\n",
    "\n",
    "                coefficient = coefficientx * coefficienty * coefficientz\n",
    "                integration += coefficient*g(x,y,z)\n",
    "\n",
    "\n",
    "    integration *= (hx * hy * hz) / 27.0\n",
    "\n",
    "    return integration\n",
    "\n",
    "# Define the region of integration [ax, bx] x [ay, by] x [az,bz]\n",
    "ax, bx = 0, 2      # Limits in x\n",
    "ay, by = 0, 1      # Limits in y\n",
    "az, bz = 0, 1      # Limits in z\n",
    "nx, ny, nz  = 160,160,160   # Number of divisions x and y and z\n",
    "\n",
    "result = SimpsonsTriple13(g, ax, bx, ay, by, az, bz,  nx, ny, nz)\n",
    "print(\"The 3 dimensional approximation using Simpson's 1/3 Rule is: \", result)"
   ]
  },
  {
   "cell_type": "markdown",
   "id": "WArJIVNo6D6n",
   "metadata": {
    "id": "WArJIVNo6D6n"
   },
   "source": [
    "Lower Limit of x is equal to 0\n",
    "Upper Limit of x is equal to 2\n",
    "Lower Limit of y is equal to 0\n",
    "Upper Limit of y is equal to 1\n",
    "Lower Limit of z is equal to 0\n",
    "Upper Limit of z is equal to 1\n",
    "- nx = ny = nz = 10 the value is 4.603285989354729\n",
    "- nx = ny = nz = 20 the value is 4.6032680948587466\n",
    "- nx = ny = nz = 40 the value is 4.603266973605006\n",
    "- nx = ny = nz = 80 the value is 4.603266903480031\n",
    "- nx = ny = nz = 160 the value is 4.603266899095987\n",
    "\n",
    "The true value is 4.6032668988038\n",
    "\n",
    "Therefore, the error vector would be\n",
    "[.0000490905509, .0000011960549, .0000000748012, .0000000046762, .0000000002921]"
   ]
  },
  {
   "cell_type": "code",
   "execution_count": 4,
   "id": "Mib07k-E9rTT",
   "metadata": {
    "colab": {
     "base_uri": "https://localhost:8080/"
    },
    "executionInfo": {
     "elapsed": 168,
     "status": "ok",
     "timestamp": 1702618404390,
     "user": {
      "displayName": "Jaylee Lassinger",
      "userId": "09766116700985077979"
     },
     "user_tz": 300
    },
    "id": "Mib07k-E9rTT",
    "outputId": "62908fae-8796-44f7-8b39-6a7fe5b129b8"
   },
   "outputs": [
    {
     "name": "stdout",
     "output_type": "stream",
     "text": [
      "Convergence =  5.359089839716421\n",
      "Convergence =  3.9990783870682964\n",
      "Convergence =  3.999652874730167\n",
      "Convergence =  4.000802371644955\n"
     ]
    }
   ],
   "source": [
    "ErrorVec = [.0000490905509, .0000011960549, .0000000748012, .0000000046762, .0000000002921]\n",
    "def GetConvergence(vec,factor=2):\n",
    "    for i in range(len(vec)-1):\n",
    "        print(\"Convergence = \", (np.log(vec[i]/vec[i+1]))/np.log(factor))\n",
    "GetConvergence(ErrorVec)"
   ]
  },
  {
   "cell_type": "code",
   "execution_count": 9,
   "id": "_RE-5z7spnrC",
   "metadata": {
    "colab": {
     "base_uri": "https://localhost:8080/"
    },
    "executionInfo": {
     "elapsed": 6615,
     "status": "ok",
     "timestamp": 1702618575387,
     "user": {
      "displayName": "Jaylee Lassinger",
      "userId": "09766116700985077979"
     },
     "user_tz": 300
    },
    "id": "_RE-5z7spnrC",
    "outputId": "ca932b1c-3516-4b2e-fe24-89d12ceb5f17"
   },
   "outputs": [
    {
     "name": "stdout",
     "output_type": "stream",
     "text": [
      "The 3 dimensional approximation using Simpson's 3/8 Rule is:  4.603266899806264\n"
     ]
    }
   ],
   "source": [
    "#Correct Running Code for Simpsons 1/3 in Three Dimensions\n",
    "\n",
    "def g(x, y, z):\n",
    "    return np.exp(x*y) + np.sin(z)\n",
    "\n",
    "def SimpsonsTriple38(g, ax, bx, ay, by, az, bz,  nx, ny, nz):\n",
    "    hx = (bx - ax) / nx\n",
    "    hy = (by - ay) / ny\n",
    "    hz = (bz - az) / nz\n",
    "    integration = 0.0\n",
    "\n",
    "    for i in range(0,nx+1):\n",
    "        for j in range(0, ny+1):\n",
    "            for k in range (0, nz+1):\n",
    "                x = ax + i * hx\n",
    "                y = ay + j * hy\n",
    "                z = az + k * hz\n",
    "\n",
    "                if i==0 or i==nx:\n",
    "                    coefficientx =  1.0\n",
    "                elif i%3 == 0:\n",
    "                    coefficientx =  2.0\n",
    "                else:\n",
    "                    coefficientx =  3.0\n",
    "\n",
    "                if j==0 or j==ny:\n",
    "                    coefficienty =  1.0\n",
    "                elif j%3 ==0:\n",
    "                    coefficienty =  2.0\n",
    "                else:\n",
    "                    coefficienty =  3.0\n",
    "\n",
    "                if k==0 or k==nz:\n",
    "                    coefficientz = 1.0\n",
    "                elif k%3 == 0:\n",
    "                    coefficientz = 2.0\n",
    "                else:\n",
    "                    coefficientz = 3.0\n",
    "\n",
    "                coefficient = coefficientx * coefficienty * coefficientz\n",
    "                integration += coefficient*g(x,y,z)\n",
    "\n",
    "\n",
    "    integration *= (27.0*hx * hy * hz) / 512.0\n",
    "\n",
    "    return integration\n",
    "\n",
    "# Define the region of integration [ax, bx] x [ay, by] x [az,bz]\n",
    "ax, bx = 0, 2      # Limits in x\n",
    "ay, by = 0,1      # Limits in y\n",
    "az, bz = 0,1      # Limits in z\n",
    "nx, ny, nz  = 144,144,144  # Number of divisions x and y and z and they must be divisible by 3\n",
    "\n",
    "result = SimpsonsTriple38(g, ax, bx, ay, by, az, bz,  nx, ny, nz)\n",
    "print(\"The 3 dimensional approximation using Simpson's 3/8 Rule is: \", result)"
   ]
  },
  {
   "cell_type": "markdown",
   "id": "Jvaz1yUi9_Ud",
   "metadata": {
    "id": "Jvaz1yUi9_Ud"
   },
   "source": [
    "Lower Limit of x is equal to 0\n",
    "Upper Limit of x is equal to 2\n",
    "Lower Limit of y is equal to 0\n",
    "Upper Limit of y is equal to 1\n",
    "Lower Limit of z is equal to 0\n",
    "Upper Limit of z is equal to 1\n",
    "- nx = ny = nz = 9 the value is 4.603332063614332\n",
    "- nx = ny = nz = 18 the value is 4.6032709954345865\n",
    "- nx = ny = nz = 36 the value is 4.6032671552423565\n",
    "- nx = ny = nz = 72 the value is 4.603266914837851\n",
    "- nx = ny = nz = 144 the value is 4.603266899806264\n",
    "\n",
    "The true value is 4.6032668988038\n",
    "\n",
    "Therefore, the error vector would be\n",
    "[.0000651648105, .0000040966307, .0000002564385, .000000016034, .0000000010024]"
   ]
  },
  {
   "cell_type": "code",
   "execution_count": 10,
   "id": "PDiJxxBGqAxg",
   "metadata": {
    "colab": {
     "base_uri": "https://localhost:8080/"
    },
    "executionInfo": {
     "elapsed": 123,
     "status": "ok",
     "timestamp": 1702618759788,
     "user": {
      "displayName": "Jaylee Lassinger",
      "userId": "09766116700985077979"
     },
     "user_tz": 300
    },
    "id": "PDiJxxBGqAxg",
    "outputId": "d3ca1949-1a98-4ffa-c3f9-1bc40dbf21c1"
   },
   "outputs": [
    {
     "name": "stdout",
     "output_type": "stream",
     "text": [
      "Convergence =  3.991583359489186\n",
      "Convergence =  3.997753063554139\n",
      "Convergence =  3.9994065905602643\n",
      "Convergence =  3.999604154461797\n"
     ]
    }
   ],
   "source": [
    "ErrorVec2 = [.0000651648105, .0000040966307, .0000002564385, .000000016034, .0000000010024]\n",
    "def GetConvergence(vec,factor=2):\n",
    "    for i in range(len(vec)-1):\n",
    "        print(\"Convergence = \", (np.log(vec[i]/vec[i+1]))/np.log(factor))\n",
    "GetConvergence(ErrorVec2)"
   ]
  },
  {
   "cell_type": "code",
   "execution_count": null,
   "id": "a-28GeF3_G8y",
   "metadata": {
    "id": "a-28GeF3_G8y"
   },
   "outputs": [],
   "source": []
  }
 ],
 "metadata": {
  "colab": {
   "provenance": []
  },
  "kernelspec": {
   "display_name": "Python 3 (ipykernel)",
   "language": "python",
   "name": "python3"
  },
  "language_info": {
   "codemirror_mode": {
    "name": "ipython",
    "version": 3
   },
   "file_extension": ".py",
   "mimetype": "text/x-python",
   "name": "python",
   "nbconvert_exporter": "python",
   "pygments_lexer": "ipython3",
   "version": "3.9.18"
  }
 },
 "nbformat": 4,
 "nbformat_minor": 5
}
