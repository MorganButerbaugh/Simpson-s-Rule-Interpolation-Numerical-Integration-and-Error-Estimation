{
 "cells": [
  {
   "cell_type": "code",
   "execution_count": 1,
   "id": "yGcrNCFs0Bym",
   "metadata": {
    "executionInfo": {
     "elapsed": 182,
     "status": "ok",
     "timestamp": 1702615862851,
     "user": {
      "displayName": "Jaylee Lassinger",
      "userId": "09766116700985077979"
     },
     "user_tz": 300
    },
    "id": "yGcrNCFs0Bym"
   },
   "outputs": [],
   "source": [
    "import numpy as np"
   ]
  },
  {
   "cell_type": "code",
   "execution_count": 2,
   "id": "k__Hh2TCPmFQ",
   "metadata": {
    "colab": {
     "base_uri": "https://localhost:8080/"
    },
    "executionInfo": {
     "elapsed": 2,
     "status": "ok",
     "timestamp": 1702616726088,
     "user": {
      "displayName": "Jaylee Lassinger",
      "userId": "09766116700985077979"
     },
     "user_tz": 300
    },
    "id": "k__Hh2TCPmFQ",
    "outputId": "21906b12-af57-4495-c381-7721e25d404e"
   },
   "outputs": [
    {
     "name": "stdout",
     "output_type": "stream",
     "text": [
      "The 2 dimensional approximation using Simpson's 1/3 Rule is:  14.964915739020096\n"
     ]
    }
   ],
   "source": [
    "#Correct Running Code for Simpsons 1/3 in Two Dimensions\n",
    "\n",
    "def g(x, y):\n",
    "    return np.exp(-x*y) + np.sin(x) - np.cos(y)\n",
    "\n",
    "def SimpsonsDouble13(g, ax, bx, ay, by, nx, ny):\n",
    "    hx = (bx - ax) / nx\n",
    "    hy = (by - ay) / ny\n",
    "    integration = 0.0\n",
    "\n",
    "    for i in range(0,nx+1):\n",
    "        for j in range(0, ny+1):\n",
    "            x = ax + i * hx\n",
    "            y = ay + j * hy\n",
    "\n",
    "            if i==0 or i==nx:\n",
    "                coefficientx =  1.0\n",
    "            elif i%2 == 0:\n",
    "                coefficientx =  2.0\n",
    "            else:\n",
    "                coefficientx =  4.0\n",
    "\n",
    "            if j==0 or j==ny:\n",
    "                coefficienty =  1.0\n",
    "            elif j%2 ==0:\n",
    "                coefficienty =  2.0\n",
    "            else:\n",
    "                coefficienty =  4.0\n",
    "\n",
    "            coefficient = coefficientx * coefficienty\n",
    "            integration += coefficient*g(x,y)\n",
    "\n",
    "\n",
    "    integration *= (hx * hy) / 9.0\n",
    "\n",
    "    return integration\n",
    "\n",
    "# Define the region of integration [ax, bx] x [ay, by]\n",
    "ax, bx = 0, 3      # Limits in x\n",
    "ay, by = 1, 5      # Limits in y\n",
    "nx, ny = 10,10     # Number of divisions x and y must be divisible by 2\n",
    "\n",
    "result = SimpsonsDouble13(g,ax,bx,ay,by,nx,ny)\n",
    "print(\"The 2 dimensional approximation using Simpson's 1/3 Rule is: \", result)"
   ]
  },
  {
   "cell_type": "markdown",
   "id": "z4RGnb3i0dQ-",
   "metadata": {
    "id": "z4RGnb3i0dQ-"
   },
   "source": [
    "\n",
    "Lower Limit of x is equal to 0\n",
    "Upper Limit of x is equal to 3\n",
    "Lower Limit of y is equal to 1\n",
    "Upper Limit of y is equal to 5\n",
    "- nx = ny = 10 the value is 14.964915739020096\n",
    "- nx = ny = 20 the value is 14.95805414637237\n",
    "- nx = ny = 40 the value is 14.95757799397997\n",
    "- nx = ny = 80 the value is  14.957547372024624\n",
    "- nx = ny = 160 the value is  14.957545444109074\n",
    "\n",
    "The true value is 14.957545315341\n",
    "\n",
    "Therefore, the error vector would be\n",
    "[.0073704237, .000508831031, .000032678638, .000002056683, .000000128768]\n"
   ]
  },
  {
   "cell_type": "code",
   "execution_count": 3,
   "id": "brNHuFXp4EpR",
   "metadata": {
    "colab": {
     "base_uri": "https://localhost:8080/"
    },
    "executionInfo": {
     "elapsed": 162,
     "status": "ok",
     "timestamp": 1702616939361,
     "user": {
      "displayName": "Jaylee Lassinger",
      "userId": "09766116700985077979"
     },
     "user_tz": 300
    },
    "id": "brNHuFXp4EpR",
    "outputId": "e6c2cf88-3b1e-425d-a2f4-5a704d548a37"
   },
   "outputs": [
    {
     "name": "stdout",
     "output_type": "stream",
     "text": [
      "Convergence =  3.8564889962161857\n",
      "Convergence =  3.96076689555642\n",
      "Convergence =  3.9899565041175564\n",
      "Convergence =  3.99747342551032\n"
     ]
    }
   ],
   "source": [
    "ErrorVec = [.0073704237, .000508831031, .000032678638, .000002056683, .000000128768]\n",
    "def GetConvergence(vec,factor=2):\n",
    "    for i in range(len(vec)-1):\n",
    "        print(\"Convergence = \", (np.log(vec[i]/vec[i+1]))/np.log(factor))\n",
    "GetConvergence(ErrorVec)"
   ]
  },
  {
   "cell_type": "code",
   "execution_count": 4,
   "id": "P6D3OAMvWnhD",
   "metadata": {
    "colab": {
     "base_uri": "https://localhost:8080/"
    },
    "executionInfo": {
     "elapsed": 153,
     "status": "ok",
     "timestamp": 1702617103972,
     "user": {
      "displayName": "Jaylee Lassinger",
      "userId": "09766116700985077979"
     },
     "user_tz": 300
    },
    "id": "P6D3OAMvWnhD",
    "outputId": "2f8dcca7-a663-4f7c-ea62-46ece31163f9"
   },
   "outputs": [
    {
     "name": "stdout",
     "output_type": "stream",
     "text": [
      "The 2 dimensional approximation using Simpson's 3/8 Rule is:  14.957545756553609\n"
     ]
    }
   ],
   "source": [
    "#Correct Running Code for Simpsons 3/8 in Two Dimensions\n",
    "\n",
    "def g(x, y):\n",
    "    return np.exp(-x*y) + np.sin(x) - np.cos(y)\n",
    "\n",
    "def SimpsonDouble38(g,ax,bx,ay,by,nx,ny):\n",
    "    hx = (bx - ax) / nx\n",
    "    hy = (by - ay) / ny\n",
    "    integration = 0.0\n",
    "\n",
    "    for i in range(0,nx+1):\n",
    "        for j in range(0, ny+1):\n",
    "            x = ax + i * hx\n",
    "            y = ay + j * hy\n",
    "\n",
    "            if i==0 or i==nx:\n",
    "                coefficientx =  1.0\n",
    "            elif i%3 == 0:\n",
    "                coefficientx =  2.0\n",
    "            else:\n",
    "                coefficientx =  3.0\n",
    "\n",
    "            if j==0 or j==ny:\n",
    "                coefficienty =  1.0\n",
    "            elif j%3 ==0:\n",
    "                coefficienty =  2.0\n",
    "            else:\n",
    "                coefficienty =  3.0\n",
    "\n",
    "            coefficient = coefficientx * coefficienty\n",
    "            integration += coefficient*g(x,y)\n",
    "\n",
    "    integration *= (9 * hx * hy)/64\n",
    "    return integration\n",
    "\n",
    "# Define the region of integration [ax, bx] x [ay, by]\n",
    "ax, bx = 0, 3      # Limits in x\n",
    "ay, by = 1, 5      # Limits in y\n",
    "nx, ny = 144,144     # Number of divisions x and y must be divisible by 3\n",
    "\n",
    "result =  SimpsonDouble38(g,ax,bx,ay,by,nx,ny)\n",
    "print(\"The 2 dimensional approximation using Simpson's 3/8 Rule is: \", result)\n",
    "\n"
   ]
  },
  {
   "cell_type": "markdown",
   "id": "H2BEEoux4RwB",
   "metadata": {
    "id": "H2BEEoux4RwB"
   },
   "source": [
    "Lower Limit of x is equal to 0\n",
    "Upper Limit of x is equal to 3\n",
    "Lower Limit of y is equal to 1\n",
    "Upper Limit of y is equal to 5\n",
    "- nx = ny = 9 the value is 14.97921585919191\n",
    "- nx = ny = 18 the value is 14.95920560018956\n",
    "- nx = ny = 36 the value is 14.957655890874488\n",
    "- nx = ny = 72 the value is  14.957552344398486\n",
    "- nx = ny = 144 the value is  14.957545756553609\n",
    "\n",
    "The true value is 14.957545315341\n",
    "\n",
    "Therefore, the error vector would be\n",
    "[.0216705439, .0016602848, .000110575533, .000007029057, .000000441212]"
   ]
  },
  {
   "cell_type": "code",
   "execution_count": 5,
   "id": "Lg8iv0QxXeuq",
   "metadata": {
    "colab": {
     "base_uri": "https://localhost:8080/"
    },
    "executionInfo": {
     "elapsed": 143,
     "status": "ok",
     "timestamp": 1702617255386,
     "user": {
      "displayName": "Jaylee Lassinger",
      "userId": "09766116700985077979"
     },
     "user_tz": 300
    },
    "id": "Lg8iv0QxXeuq",
    "outputId": "47cf7159-3e8e-43bb-de0c-d4312fee29f2"
   },
   "outputs": [
    {
     "name": "stdout",
     "output_type": "stream",
     "text": [
      "Convergence =  3.7062327202367062\n",
      "Convergence =  3.9083266366471765\n",
      "Convergence =  3.9755572320901646\n",
      "Convergence =  3.9937872193456365\n"
     ]
    }
   ],
   "source": [
    "ErrorVec2 = [.0216705439, .0016602848, .000110575533, .000007029057, .000000441212]\n",
    "def GetConvergence(vec,factor=2):\n",
    "    for i in range(len(vec)-1):\n",
    "        print(\"Convergence = \", (np.log(vec[i]/vec[i+1]))/np.log(factor))\n",
    "GetConvergence(ErrorVec2)"
   ]
  },
  {
   "cell_type": "code",
   "execution_count": null,
   "id": "vswVL3Ze5YyR",
   "metadata": {
    "id": "vswVL3Ze5YyR"
   },
   "outputs": [],
   "source": []
  }
 ],
 "metadata": {
  "colab": {
   "provenance": []
  },
  "kernelspec": {
   "display_name": "Python 3 (ipykernel)",
   "language": "python",
   "name": "python3"
  },
  "language_info": {
   "codemirror_mode": {
    "name": "ipython",
    "version": 3
   },
   "file_extension": ".py",
   "mimetype": "text/x-python",
   "name": "python",
   "nbconvert_exporter": "python",
   "pygments_lexer": "ipython3",
   "version": "3.9.18"
  }
 },
 "nbformat": 4,
 "nbformat_minor": 5
}
